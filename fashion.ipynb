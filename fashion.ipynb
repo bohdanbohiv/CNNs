{
 "cells": [
  {
   "metadata": {},
   "cell_type": "code",
   "source": [
    "import matplotlib.pyplot as plt\n",
    "import tensorflow as tf\n",
    "from tensorflow import keras\n",
    "from tensorflow.keras import layers"
   ],
   "id": "f83a60ad74ca5620",
   "outputs": [],
   "execution_count": null
  },
  {
   "cell_type": "code",
   "id": "initial_id",
   "metadata": {
    "collapsed": true,
    "ExecuteTime": {
     "end_time": "2025-03-02T14:58:05.066772Z",
     "start_time": "2025-03-02T14:58:04.064510Z"
    }
   },
   "source": [
    "(train_imgs, train_labels), (test_imgs, test_labels) = keras.datasets.fashion_mnist.load_data()\n",
    "train_imgs, test_imgs = train_imgs / 255, test_imgs / 255  # normalisation"
   ],
   "outputs": [],
   "execution_count": 2
  },
  {
   "metadata": {},
   "cell_type": "markdown",
   "source": "Normalisation improves accuracy dramatically.",
   "id": "bdf9f757b78c04d2"
  },
  {
   "metadata": {},
   "cell_type": "code",
   "source": [
    "model = keras.Sequential([\n",
    "    keras.Input((28, 28, 1)),\n",
    "    layers.Conv2D(32, (3, 3), activation=tf.nn.relu),\n",
    "    layers.MaxPooling2D(2, 2),\n",
    "    layers.Conv2D(32, (3, 3), activation=tf.nn.relu),\n",
    "    layers.MaxPooling2D(2, 2),\n",
    "    layers.Flatten(),\n",
    "    layers.Dense(64, activation=tf.nn.relu),\n",
    "    layers.Dropout(.2),\n",
    "    layers.Dense(10, activation=tf.nn.softmax),\n",
    "])\n",
    "model.compile(\n",
    "    keras.optimizers.Adam(),\n",
    "    keras.losses.SparseCategoricalCrossentropy(),\n",
    "    metrics=['accuracy']  # smart way\n",
    ")\n",
    "model.summary()"
   ],
   "id": "e3c0d638913dd572",
   "outputs": [],
   "execution_count": null
  },
  {
   "metadata": {
    "ExecuteTime": {
     "end_time": "2025-03-02T14:58:09.307879Z",
     "start_time": "2025-03-02T14:58:09.297276Z"
    }
   },
   "cell_type": "code",
   "source": [
    "class AccCallback(keras.callbacks.Callback):\n",
    "    def on_epoch_end(self, epoch, logs={}):\n",
    "        if logs.get('accuracy') > 0.95:\n",
    "            print('\\nReached 95% accuracy so cancelling training!')\n",
    "            self.model.stop_training = True"
   ],
   "id": "b99e0c6335c4b7b2",
   "outputs": [],
   "execution_count": 4
  },
  {
   "metadata": {},
   "cell_type": "code",
   "source": [
    "model.fit(train_imgs, train_labels, epochs=5, callbacks=[AccCallback()])\n",
    "test_loss, test_acc = model.evaluate(test_imgs, test_labels)\n",
    "print(f'Test accuracy: {test_acc * 100:.4}%, Test loss: {test_loss:.4}')"
   ],
   "id": "a127934807d767ee",
   "outputs": [],
   "execution_count": null
  },
  {
   "metadata": {},
   "cell_type": "markdown",
   "source": "Inspect convolutional and pooling layers",
   "id": "c9b5bf4bc2972d3f"
  },
  {
   "metadata": {
    "ExecuteTime": {
     "end_time": "2025-03-02T14:59:18.590931Z",
     "start_time": "2025-03-02T14:59:18.568916Z"
    }
   },
   "cell_type": "code",
   "source": [
    "num_l = 4\n",
    "features_model = keras.Model(inputs=model.inputs,\n",
    "    outputs=[layer.output for layer in model.layers[:num_l]])\n",
    "layer_names = [layer.name for layer in model.layers[:num_l]]"
   ],
   "id": "949b44a050583c51",
   "outputs": [],
   "execution_count": 6
  },
  {
   "metadata": {},
   "cell_type": "code",
   "source": [
    "_, axs = plt.subplots(3, num_l, layout='constrained')\n",
    "convolution_number = 6\n",
    "img_indexes = 0, 23, 28\n",
    "for i, img in enumerate(img_indexes):\n",
    "    features = features_model.predict(test_imgs[img].reshape(1, 28, 28, 1))\n",
    "    for layer in range(num_l):\n",
    "        f = features[layer]\n",
    "        axs[i, layer].imshow(f[0, :, :, convolution_number], cmap='inferno')\n",
    "        axs[i, layer].grid(False)\n",
    "        axs[i, layer].set_title(layer_names[layer])"
   ],
   "id": "655bbb64a729174a",
   "outputs": [],
   "execution_count": null
  }
 ],
 "metadata": {
  "kernelspec": {
   "display_name": "Python 3",
   "language": "python",
   "name": "python3"
  },
  "language_info": {
   "codemirror_mode": {
    "name": "ipython",
    "version": 2
   },
   "file_extension": ".py",
   "mimetype": "text/x-python",
   "name": "python",
   "nbconvert_exporter": "python",
   "pygments_lexer": "ipython2",
   "version": "2.7.6"
  }
 },
 "nbformat": 4,
 "nbformat_minor": 5
}
