{
 "cells": [
  {
   "cell_type": "code",
   "execution_count": null,
   "id": "initial_id",
   "metadata": {
    "collapsed": true
   },
   "outputs": [],
   "source": [
    "import numpy as np\n",
    "from tensorflow import keras\n",
    "from tensorflow.keras import layers"
   ]
  },
  {
   "metadata": {},
   "cell_type": "code",
   "outputs": [],
   "execution_count": null,
   "source": [
    "model = keras.Sequential([\n",
    "    keras.Input((1,)),\n",
    "    layers.Dense(1),\n",
    "])"
   ],
   "id": "489f4acbdc217c52"
  },
  {
   "metadata": {},
   "cell_type": "markdown",
   "source": "Compile with stochastic gradient descent optimizer",
   "id": "bb4370614419e471"
  },
  {
   "metadata": {},
   "cell_type": "code",
   "outputs": [],
   "execution_count": null,
   "source": "model.compile(optimizer='sgd', loss='mean_squared_error')",
   "id": "e4a9d73e0096d199"
  },
  {
   "metadata": {},
   "cell_type": "markdown",
   "source": "Data for y=2x-1",
   "id": "82521d3b92732782"
  },
  {
   "metadata": {},
   "cell_type": "code",
   "outputs": [],
   "execution_count": null,
   "source": [
    "xs = np.array([-1.0, 0.0, 1.0, 2.0, 3.0, 4.0])\n",
    "ys = np.array([-3.0, -1.0, 1.0, 3.0, 5.0, 7.0])"
   ],
   "id": "90ed8e7c1195e26a"
  },
  {
   "metadata": {},
   "cell_type": "code",
   "outputs": [],
   "execution_count": null,
   "source": "model.fit(xs, ys, epochs=500)",
   "id": "88c21bccde04f0f5"
  },
  {
   "metadata": {},
   "cell_type": "markdown",
   "source": "Expect to see a number close to 19",
   "id": "b435f49dcea26ff8"
  },
  {
   "metadata": {},
   "cell_type": "code",
   "outputs": [],
   "execution_count": null,
   "source": "print(model.predict(np.array([10.0])))",
   "id": "1c41208912ae3c46"
  }
 ],
 "metadata": {
  "kernelspec": {
   "display_name": "Python 3",
   "language": "python",
   "name": "python3"
  },
  "language_info": {
   "codemirror_mode": {
    "name": "ipython",
    "version": 2
   },
   "file_extension": ".py",
   "mimetype": "text/x-python",
   "name": "python",
   "nbconvert_exporter": "python",
   "pygments_lexer": "ipython2",
   "version": "2.7.6"
  }
 },
 "nbformat": 4,
 "nbformat_minor": 5
}
